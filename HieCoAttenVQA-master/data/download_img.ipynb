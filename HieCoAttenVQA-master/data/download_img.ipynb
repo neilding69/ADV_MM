{
 "cells": [
  {
   "cell_type": "markdown",
   "metadata": {},
   "source": [
    "Download Image Data "
   ]
  },
  {
   "cell_type": "code",
   "execution_count": 2,
   "metadata": {},
   "outputs": [],
   "source": [
    "import json\n",
    "import os"
   ]
  },
  {
   "cell_type": "code",
   "execution_count": 3,
   "metadata": {},
   "outputs": [],
   "source": [
    "def download_img():\n",
    "    os.system('wget http://images.cocodataset.org/zips/train2014.zip -P zip/')\n",
    "    os.system('wget http://images.cocodataset.org/zips/val2014.zip -P zip/')\n",
    "    os.system('wget http://images.cocodataset.org/zips/test2015.zip -P zip/')\n",
    "\n",
    "\n",
    "    # Unzip the annotations\n",
    "    os.system('unzip zip/train2014.zip -d train2014/')\n",
    "    os.system('unzip zip/val2014.zip -d val2014/')\n",
    "    os.system('unzip zip/test2015.zip -d test2015/')\n"
   ]
  },
  {
   "cell_type": "code",
   "execution_count": 4,
   "metadata": {},
   "outputs": [],
   "source": [
    "download_img()"
   ]
  },
  {
   "cell_type": "code",
   "execution_count": null,
   "metadata": {},
   "outputs": [],
   "source": []
  }
 ],
 "metadata": {
  "kernelspec": {
   "display_name": "Python 3",
   "language": "python",
   "name": "python3"
  },
  "language_info": {
   "codemirror_mode": {
    "name": "ipython",
    "version": 3
   },
   "file_extension": ".py",
   "mimetype": "text/x-python",
   "name": "python",
   "nbconvert_exporter": "python",
   "pygments_lexer": "ipython3",
   "version": "3.6.6"
  }
 },
 "nbformat": 4,
 "nbformat_minor": 2
}
